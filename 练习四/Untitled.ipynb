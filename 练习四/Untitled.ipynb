{
 "cells": [
  {
   "cell_type": "code",
   "execution_count": 2,
   "id": "95e51a2d",
   "metadata": {},
   "outputs": [
    {
     "name": "stdout",
     "output_type": "stream",
     "text": [
      "[[   0    0]\n",
      " [   0 1706]\n",
      " [1279    0]\n",
      " [1279 1706]]\n",
      "300, 254\n",
      "829, 259\n",
      "266, 565\n",
      "858, 616\n",
      "[[300, 254], [829, 259], [266, 565], [858, 616]]\n",
      "matrix: [[-4.75497307e-02  2.54467259e-01  3.00000000e+02]\n",
      " [ 1.98624690e-01 -1.44446009e-02  2.54000000e+02]\n",
      " [-7.88212878e-05 -6.70866151e-05  1.00000000e+00]]\n"
     ]
    }
   ],
   "source": [
    "import cv2 as cv\n",
    "import numpy as np\n",
    "\n",
    "\n",
    "# 鼠标响应操作，从图片中选中四个点。\n",
    "def mouse_action(event, x, y, flags, replace_coordinate_array):\n",
    "    cv.imshow('collect coordinate', img_dest_copy)\n",
    "    if event == cv.EVENT_LBUTTONUP:\n",
    "        # 画圆函数，参数分别表示原图、坐标、半径、颜色、线宽(若为-1表示填充)\n",
    "        # 这个是为了圈出鼠标点击的点\n",
    "        cv.circle(img_dest_copy, (x, y), 2, (0, 255, 255), -1)\n",
    "\n",
    "        # 用鼠标单击事件来选择坐标\n",
    "        # 将选中的四个点存放在集合中，在收集四个点时，四个点的点击顺序需要按照 img_src_coordinate 中的点的相对位置的前后顺序保持一致\n",
    "        print(f'{x}, {y}')\n",
    "        replace_coordinate_array.append([x, y])\n",
    "\n",
    "\n",
    "if __name__ == '__main__':\n",
    "    # 首先，加载待替换的源图像，并获得该图像的长度等信息,cv.IMREAD_COLOR 表示加载原图\n",
    "    img_src = cv.imread('img_src.png', cv.IMREAD_COLOR)\n",
    "    h, w, c = img_src.shape\n",
    "    # 获得图像的四个边缘点的坐标\n",
    "    img_src_coordinate = np.array([[x, y] for x in (0, w - 1) for y in (0, h - 1)])\n",
    "    print(img_src_coordinate)\n",
    "\n",
    "    # 加载目标图像\n",
    "    img_dest = cv.imread('img_dest.png', cv.IMREAD_COLOR)\n",
    "    # 将源数据复制一份，避免后来对该数据的操作会对结果有影响\n",
    "    img_dest_copy = np.tile(img_dest, 1)\n",
    "\n",
    "    # 源图像中的数据\n",
    "    # 定义一个数组，用来存放要源图像中要替换的坐标点，该坐标点由鼠标采集得到\n",
    "    replace_coordinate = []\n",
    "    cv.namedWindow('collect coordinate')\n",
    "    cv.setMouseCallback('collect coordinate', mouse_action, replace_coordinate)\n",
    "    while True:\n",
    "        # 当采集到四个点后，可以按esc退出鼠标采集行为\n",
    "        if cv.waitKey(20) == 27:\n",
    "            break\n",
    "\n",
    "    print(replace_coordinate)\n",
    "\n",
    "    replace_coordinate = np.array(replace_coordinate)\n",
    "    # 根据选中的四个点坐标和代替换的图像信息完成单应矩阵\n",
    "    matrix, mask = cv.findHomography(img_src_coordinate, replace_coordinate, 0)\n",
    "    print(f'matrix: {matrix}')\n",
    "    perspective_img = cv.warpPerspective(img_src, matrix, (img_dest.shape[1], img_dest.shape[0]))\n",
    "    cv.imshow('img', perspective_img)\n",
    "\n",
    "    # cv.imshow('threshold', threshold_img)\n",
    "    # 降噪，去掉最大或最小的像素点\n",
    "    retval, threshold_img = cv.threshold(perspective_img, 0, 255, cv.THRESH_BINARY)\n",
    "    # 将降噪后的图像与之前的图像进行拼接\n",
    "\n",
    "    cv.copyTo(src=threshold_img, mask=np.tile(threshold_img, 1), dst=img_dest)\n",
    "    cv.copyTo(src=perspective_img, mask=np.tile(perspective_img, 1), dst=img_dest)\n",
    "    cv.imshow('result', img_dest)\n",
    "    cv.waitKey()\n",
    "    cv.destroyAllWindows()\n"
   ]
  },
  {
   "cell_type": "code",
   "execution_count": null,
   "id": "653990b3",
   "metadata": {},
   "outputs": [],
   "source": []
  }
 ],
 "metadata": {
  "kernelspec": {
   "display_name": "Python 3 (ipykernel)",
   "language": "python",
   "name": "python3"
  },
  "language_info": {
   "codemirror_mode": {
    "name": "ipython",
    "version": 3
   },
   "file_extension": ".py",
   "mimetype": "text/x-python",
   "name": "python",
   "nbconvert_exporter": "python",
   "pygments_lexer": "ipython3",
   "version": "3.8.16"
  }
 },
 "nbformat": 4,
 "nbformat_minor": 5
}
